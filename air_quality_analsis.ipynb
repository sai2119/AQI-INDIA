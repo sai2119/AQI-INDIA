{
  "nbformat": 4,
  "nbformat_minor": 0,
  "metadata": {
    "colab": {
      "name": "air quality analsis.ipynb",
      "provenance": [],
      "collapsed_sections": [],
      "mount_file_id": "1mTPKqT24ldGwqzvID-VzIEGEp0UMEG52",
      "authorship_tag": "ABX9TyNMpozLYeE0Bp2pNN+2nkft",
      "include_colab_link": true
    },
    "kernelspec": {
      "name": "python3",
      "display_name": "Python 3"
    }
  },
  "cells": [
    {
      "cell_type": "markdown",
      "metadata": {
        "id": "view-in-github",
        "colab_type": "text"
      },
      "source": [
        "<a href=\"https://colab.research.google.com/github/sai2119/AQI-INDIA/blob/master/air_quality_analsis.ipynb\" target=\"_parent\"><img src=\"https://colab.research.google.com/assets/colab-badge.svg\" alt=\"Open In Colab\"/></a>"
      ]
    },
    {
      "cell_type": "code",
      "metadata": {
        "id": "agjib4i70amI",
        "colab_type": "code",
        "outputId": "3b3079f8-3c06-4182-8b9e-a1046cb1ef41",
        "colab": {
          "base_uri": "https://localhost:8080/",
          "height": 70
        }
      },
      "source": [
        "import pandas as pd\n",
        "import numpy as np\n",
        "import matplotlib.pyplot as plt\n",
        "import seaborn as sns\n",
        "sns.set()"
      ],
      "execution_count": 1,
      "outputs": [
        {
          "output_type": "stream",
          "text": [
            "/usr/local/lib/python3.6/dist-packages/statsmodels/tools/_testing.py:19: FutureWarning: pandas.util.testing is deprecated. Use the functions in the public API at pandas.testing instead.\n",
            "  import pandas.util.testing as tm\n"
          ],
          "name": "stderr"
        }
      ]
    },
    {
      "cell_type": "code",
      "metadata": {
        "id": "OXpeUOOk423c",
        "colab_type": "code",
        "colab": {}
      },
      "source": [
        "\n",
        "data = pd.read_csv('/content/drive/My Drive/Colab Notebooks/result_without_nan.csv')"
      ],
      "execution_count": 0,
      "outputs": []
    },
    {
      "cell_type": "code",
      "metadata": {
        "id": "gahepFFm9FiA",
        "colab_type": "code",
        "outputId": "c5d032b3-2ea5-4286-b25b-9ab7bf7f7f5d",
        "colab": {
          "base_uri": "https://localhost:8080/",
          "height": 195
        }
      },
      "source": [
        "data.head()"
      ],
      "execution_count": 3,
      "outputs": [
        {
          "output_type": "execute_result",
          "data": {
            "text/html": [
              "<div>\n",
              "<style scoped>\n",
              "    .dataframe tbody tr th:only-of-type {\n",
              "        vertical-align: middle;\n",
              "    }\n",
              "\n",
              "    .dataframe tbody tr th {\n",
              "        vertical-align: top;\n",
              "    }\n",
              "\n",
              "    .dataframe thead th {\n",
              "        text-align: right;\n",
              "    }\n",
              "</style>\n",
              "<table border=\"1\" class=\"dataframe\">\n",
              "  <thead>\n",
              "    <tr style=\"text-align: right;\">\n",
              "      <th></th>\n",
              "      <th>city</th>\n",
              "      <th>Timestamp</th>\n",
              "      <th>pm25</th>\n",
              "      <th>o3</th>\n",
              "      <th>co</th>\n",
              "      <th>so2</th>\n",
              "      <th>pm10</th>\n",
              "      <th>no2</th>\n",
              "      <th>latitude</th>\n",
              "      <th>longitude</th>\n",
              "    </tr>\n",
              "  </thead>\n",
              "  <tbody>\n",
              "    <tr>\n",
              "      <th>0</th>\n",
              "      <td>Aurangabad</td>\n",
              "      <td>21-05-2020 12:30</td>\n",
              "      <td>13.45</td>\n",
              "      <td>51.88</td>\n",
              "      <td>340.0</td>\n",
              "      <td>4.96</td>\n",
              "      <td>52.10</td>\n",
              "      <td>13.05</td>\n",
              "      <td>19.838944</td>\n",
              "      <td>75.244448</td>\n",
              "    </tr>\n",
              "    <tr>\n",
              "      <th>1</th>\n",
              "      <td>Aurangabad</td>\n",
              "      <td>21-05-2020 12:15</td>\n",
              "      <td>14.04</td>\n",
              "      <td>54.23</td>\n",
              "      <td>320.0</td>\n",
              "      <td>6.12</td>\n",
              "      <td>49.92</td>\n",
              "      <td>2.72</td>\n",
              "      <td>19.838944</td>\n",
              "      <td>75.244448</td>\n",
              "    </tr>\n",
              "    <tr>\n",
              "      <th>2</th>\n",
              "      <td>Aurangabad</td>\n",
              "      <td>21-05-2020 12:00</td>\n",
              "      <td>14.04</td>\n",
              "      <td>50.92</td>\n",
              "      <td>420.0</td>\n",
              "      <td>5.49</td>\n",
              "      <td>49.92</td>\n",
              "      <td>10.97</td>\n",
              "      <td>19.838944</td>\n",
              "      <td>75.244448</td>\n",
              "    </tr>\n",
              "    <tr>\n",
              "      <th>3</th>\n",
              "      <td>Aurangabad</td>\n",
              "      <td>21-05-2020 11:00</td>\n",
              "      <td>13.11</td>\n",
              "      <td>48.12</td>\n",
              "      <td>670.0</td>\n",
              "      <td>4.63</td>\n",
              "      <td>49.96</td>\n",
              "      <td>16.98</td>\n",
              "      <td>19.838944</td>\n",
              "      <td>75.244448</td>\n",
              "    </tr>\n",
              "    <tr>\n",
              "      <th>4</th>\n",
              "      <td>Aurangabad</td>\n",
              "      <td>21-05-2020 10:30</td>\n",
              "      <td>13.50</td>\n",
              "      <td>50.21</td>\n",
              "      <td>590.0</td>\n",
              "      <td>3.72</td>\n",
              "      <td>49.63</td>\n",
              "      <td>19.23</td>\n",
              "      <td>19.838944</td>\n",
              "      <td>75.244448</td>\n",
              "    </tr>\n",
              "  </tbody>\n",
              "</table>\n",
              "</div>"
            ],
            "text/plain": [
              "         city         Timestamp   pm25  ...    no2   latitude  longitude\n",
              "0  Aurangabad  21-05-2020 12:30  13.45  ...  13.05  19.838944  75.244448\n",
              "1  Aurangabad  21-05-2020 12:15  14.04  ...   2.72  19.838944  75.244448\n",
              "2  Aurangabad  21-05-2020 12:00  14.04  ...  10.97  19.838944  75.244448\n",
              "3  Aurangabad  21-05-2020 11:00  13.11  ...  16.98  19.838944  75.244448\n",
              "4  Aurangabad  21-05-2020 10:30  13.50  ...  19.23  19.838944  75.244448\n",
              "\n",
              "[5 rows x 10 columns]"
            ]
          },
          "metadata": {
            "tags": []
          },
          "execution_count": 3
        }
      ]
    },
    {
      "cell_type": "code",
      "metadata": {
        "id": "OlTUjsfN-6KQ",
        "colab_type": "code",
        "outputId": "de9080d0-9f63-4326-dee1-2d2eb845ad32",
        "colab": {
          "base_uri": "https://localhost:8080/",
          "height": 202
        }
      },
      "source": [
        " data.dtypes"
      ],
      "execution_count": 4,
      "outputs": [
        {
          "output_type": "execute_result",
          "data": {
            "text/plain": [
              "city           object\n",
              " Timestamp     object\n",
              "pm25          float64\n",
              "o3            float64\n",
              "co            float64\n",
              "so2           float64\n",
              "pm10          float64\n",
              "no2           float64\n",
              "latitude      float64\n",
              "longitude     float64\n",
              "dtype: object"
            ]
          },
          "metadata": {
            "tags": []
          },
          "execution_count": 4
        }
      ]
    },
    {
      "cell_type": "code",
      "metadata": {
        "id": "FfKqDNPn_HbK",
        "colab_type": "code",
        "outputId": "0b6c4071-39c2-4016-e757-58018082f973",
        "colab": {
          "base_uri": "https://localhost:8080/",
          "height": 302
        }
      },
      "source": [
        "\n",
        "data[' Timestamp'] = pd.to_datetime(data[' Timestamp'],format='%d-%m-%Y %H:%M')\n",
        "\n",
        "data.info()"
      ],
      "execution_count": 5,
      "outputs": [
        {
          "output_type": "stream",
          "text": [
            "<class 'pandas.core.frame.DataFrame'>\n",
            "RangeIndex: 787558 entries, 0 to 787557\n",
            "Data columns (total 10 columns):\n",
            " #   Column      Non-Null Count   Dtype         \n",
            "---  ------      --------------   -----         \n",
            " 0   city        787558 non-null  object        \n",
            " 1    Timestamp  787558 non-null  datetime64[ns]\n",
            " 2   pm25        787558 non-null  float64       \n",
            " 3   o3          787558 non-null  float64       \n",
            " 4   co          787558 non-null  float64       \n",
            " 5   so2         787558 non-null  float64       \n",
            " 6   pm10        787558 non-null  float64       \n",
            " 7   no2         787558 non-null  float64       \n",
            " 8   latitude    787558 non-null  float64       \n",
            " 9   longitude   787558 non-null  float64       \n",
            "dtypes: datetime64[ns](1), float64(8), object(1)\n",
            "memory usage: 60.1+ MB\n"
          ],
          "name": "stdout"
        }
      ]
    },
    {
      "cell_type": "code",
      "metadata": {
        "id": "6DGJziYmByKr",
        "colab_type": "code",
        "outputId": "55f7b74e-3bc1-4818-f0a5-9c17e02e29bc",
        "colab": {
          "base_uri": "https://localhost:8080/",
          "height": 761
        }
      },
      "source": [
        "corrmat = data.corr()\n",
        "top_corr_features = corrmat.index\n",
        "plt.figure(figsize=(13,13))\n",
        "g=sns.heatmap(data[top_corr_features].corr(),annot=True,cmap='rainbow',linewidths=3)"
      ],
      "execution_count": 6,
      "outputs": [
        {
          "output_type": "display_data",
          "data": {
            "image/png": "[encoded data removed]",
            "text/plain": [
              "<Figure size 936x936 with 2 Axes>"
            ]
          },
          "metadata": {
            "tags": [],
            "needs_background": "light"
          }
        }
      ]
    },
    {
      "cell_type": "code",
      "metadata": {
        "id": "yNa6f6LL9qOt",
        "colab_type": "code",
        "outputId": "c402e7bc-fa89-4a35-aa21-34fd60c253aa",
        "colab": {
          "base_uri": "https://localhost:8080/",
          "height": 1000
        }
      },
      "source": [
        "city_pm25 = data.groupby('city').pm25.mean()\n",
        "\n",
        "city_o3 = data.groupby('city').o3.mean()\n",
        "city_co\t = data.groupby('city').co.mean()\n",
        "city_so2 = data.groupby('city').so2.mean()\n",
        "city_pm10 = data.groupby('city').pm10.mean()\n",
        "city_no2 = data.groupby('city').no2.mean()\n",
        "print(city_pm25,city_o3,city_co,city_so2,city_pm10,city_no2)"
      ],
      "execution_count": 7,
      "outputs": [
        {
          "output_type": "stream",
          "text": [
            "city\n",
            " Alwar           32.579331\n",
            "Ahmedabad        44.804395\n",
            "Aizawl           27.944918\n",
            "Ajmer            37.053331\n",
            "Amaravati        22.410654\n",
            "                   ...    \n",
            "Vatva            54.163563\n",
            "Vijayapura       47.912020\n",
            "Visakhapatnam    26.138110\n",
            "Yadgir           30.494764\n",
            "Yamunanagar      49.553035\n",
            "Name: pm25, Length: 101, dtype: float64 city\n",
            " Alwar           36.962138\n",
            "Ahmedabad        45.226862\n",
            "Aizawl            7.524666\n",
            "Ajmer            62.112563\n",
            "Amaravati        35.066366\n",
            "                   ...    \n",
            "Vatva            21.646303\n",
            "Vijayapura       49.730458\n",
            "Visakhapatnam    20.171044\n",
            "Yadgir           35.430445\n",
            "Yamunanagar      39.903315\n",
            "Name: o3, Length: 101, dtype: float64 city\n",
            " Alwar           1.938567e+13\n",
            "Ahmedabad        2.053842e+13\n",
            "Aizawl           3.333023e+02\n",
            "Ajmer            2.390412e+13\n",
            "Amaravati        5.120903e+17\n",
            "                     ...     \n",
            "Vatva            3.376715e+12\n",
            "Vijayapura       2.406877e+13\n",
            "Visakhapatnam    1.916714e+13\n",
            "Yadgir           4.808429e+02\n",
            "Yamunanagar      7.058093e+13\n",
            "Name: co, Length: 101, dtype: float64 city\n",
            " Alwar           18.806317\n",
            "Ahmedabad        43.073616\n",
            "Aizawl            7.157343\n",
            "Ajmer             7.593489\n",
            "Amaravati        22.703881\n",
            "                   ...    \n",
            "Vatva            25.797190\n",
            "Vijayapura        5.440537\n",
            "Visakhapatnam    25.799958\n",
            "Yadgir           20.454084\n",
            "Yamunanagar      41.865343\n",
            "Name: so2, Length: 101, dtype: float64 city\n",
            " Alwar            65.177937\n",
            "Ahmedabad        103.010317\n",
            "Aizawl            34.543699\n",
            "Ajmer             82.258812\n",
            "Amaravati         42.246482\n",
            "                    ...    \n",
            "Vatva            133.692172\n",
            "Vijayapura        60.624424\n",
            "Visakhapatnam     69.764594\n",
            "Yadgir            62.429319\n",
            "Yamunanagar       99.950443\n",
            "Name: pm10, Length: 101, dtype: float64 city\n",
            " Alwar           30.028258\n",
            "Ahmedabad        35.184689\n",
            "Aizawl            2.681667\n",
            "Ajmer            14.915375\n",
            "Amaravati         7.131705\n",
            "                   ...    \n",
            "Vatva            35.295645\n",
            "Vijayapura       10.627350\n",
            "Visakhapatnam    28.823871\n",
            "Yadgir           13.049476\n",
            "Yamunanagar      30.981541\n",
            "Name: no2, Length: 101, dtype: float64\n"
          ],
          "name": "stdout"
        }
      ]
    },
    {
      "cell_type": "code",
      "metadata": {
        "id": "NdnW8aLR9Ko4",
        "colab_type": "code",
        "outputId": "7118d6ca-e94a-4649-c61d-24a3e4df62ef",
        "colab": {
          "base_uri": "https://localhost:8080/",
          "height": 1000
        }
      },
      "source": [
        "city_describe_pm25 = data.groupby('city').pm25.describe()\n",
        "city_describe_o3 = data.groupby('city').o3.describe()\n",
        "city_describe_co\t = data.groupby('city').co.describe()\n",
        "city_describe_so2 = data.groupby('city').so2.describe()\n",
        "city_describe_pm10 = data.groupby('city').pm10.describe()\n",
        "city_describe_no2 = data.groupby('city').no2.describe()\n",
        "print(city_describe_pm25,city_describe_o3,city_describe_co,city_describe_so2,city_describe_pm10,city_describe_no2)"
      ],
      "execution_count": 8,
      "outputs": [
        {
          "output_type": "stream",
          "text": [
            "                count       mean        std  ...     50%      75%     max\n",
            "city                                         ...                         \n",
            " Alwar         5860.0  32.579331  13.131242  ...  31.785  42.9100   80.52\n",
            "Ahmedabad      5609.0  44.804395  52.386456  ...  35.350  51.2200  999.99\n",
            "Aizawl         2574.0  27.944918  17.479719  ...  26.000  39.7775  122.00\n",
            "Ajmer          6091.0  37.053331  21.004376  ...  32.900  47.0500  187.60\n",
            "Amaravati      2463.0  22.410654  11.092671  ...  20.000  29.0000   67.00\n",
            "...               ...        ...        ...  ...     ...      ...     ...\n",
            "Vatva          2843.0  54.163563  41.713480  ...  43.500  63.3400  296.08\n",
            "Vijayapura     1396.0  47.912020  23.817128  ...  43.470  53.1100  281.79\n",
            "Visakhapatnam  5259.0  26.138110  18.278883  ...  22.000  33.0000  121.00\n",
            "Yadgir         1910.0  30.494764  11.398295  ...  30.000  36.0000  127.00\n",
            "Yamunanagar    3219.0  49.553035  31.483170  ...  45.800  60.8000  720.70\n",
            "\n",
            "[101 rows x 8 columns]                 count       mean        std  ...     50%      75%      max\n",
            "city                                         ...                          \n",
            " Alwar         5860.0  36.962138  30.250175  ...  25.695  64.4850   190.68\n",
            "Ahmedabad      5609.0  45.226862  60.805993  ...  29.020  76.1800  2139.98\n",
            "Aizawl         2574.0   7.524666   4.940059  ...   8.460   8.4600    67.72\n",
            "Ajmer          6091.0  62.112563  35.375312  ...  67.410  89.9700   334.33\n",
            "Amaravati      2463.0  35.066366  29.550428  ...  29.600  43.8000   291.80\n",
            "...               ...        ...        ...  ...     ...      ...      ...\n",
            "Vatva          2843.0  21.646303  15.303559  ...  16.550  33.0550    73.11\n",
            "Vijayapura     1396.0  49.730458  28.722464  ...  44.795  64.6025   255.76\n",
            "Visakhapatnam  5259.0  20.171044  22.501604  ...  14.500  23.7000   277.70\n",
            "Yadgir         1910.0  35.430445  21.136994  ...  30.520  49.9300   212.74\n",
            "Yamunanagar    3219.0  39.903315  49.142928  ...  33.310  55.1150   999.99\n",
            "\n",
            "[101 rows x 8 columns]                 count          mean  ...           75%           max\n",
            "city                                 ...                            \n",
            " Alwar         5860.0  1.938567e+13  ...  7.400000e+02  1.600000e+15\n",
            "Ahmedabad      5609.0  2.053842e+13  ...  6.200000e+02  1.600000e+15\n",
            "Aizawl         2574.0  3.333023e+02  ...  4.100000e+02  7.100000e+02\n",
            "Ajmer          6091.0  2.390412e+13  ...  8.900000e+02  1.600000e+15\n",
            "Amaravati      2463.0  5.120903e+17  ...  1.600000e+15  1.260000e+21\n",
            "...               ...           ...  ...           ...           ...\n",
            "Vatva          2843.0  3.376715e+12  ...  9.600000e+02  1.600000e+15\n",
            "Vijayapura     1396.0  2.406877e+13  ...  1.010000e+03  1.600000e+15\n",
            "Visakhapatnam  5259.0  1.916714e+13  ...  8.100000e+02  1.600000e+15\n",
            "Yadgir         1910.0  4.808429e+02  ...  7.000000e+02  2.600000e+03\n",
            "Yamunanagar    3219.0  7.058093e+13  ...  6.100000e+02  1.600000e+15\n",
            "\n",
            "[101 rows x 8 columns]                 count       mean         std  ...     50%     75%      max\n",
            "city                                          ...                         \n",
            " Alwar         5860.0  18.806317    9.979632  ...  16.765  23.220   106.58\n",
            "Ahmedabad      5609.0  43.073616   70.563064  ...  22.350  46.190   975.35\n",
            "Aizawl         2574.0   7.157343    1.626928  ...   7.210   8.320    12.44\n",
            "Ajmer          6091.0   7.593489   13.373105  ...   6.310   7.500   239.04\n",
            "Amaravati      2463.0  22.703881   59.222604  ...  16.400  21.900   882.30\n",
            "...               ...        ...         ...  ...     ...     ...      ...\n",
            "Vatva          2843.0  25.797190   44.487356  ...   9.760  24.720   609.60\n",
            "Vijayapura     1396.0   5.440537    2.736063  ...   5.030   6.835    17.37\n",
            "Visakhapatnam  5259.0  25.799958  116.181400  ...   9.000  15.490  1413.40\n",
            "Yadgir         1910.0  20.454084    6.482273  ...  20.400  24.400    66.50\n",
            "Yamunanagar    3219.0  41.865343  124.547703  ...  12.970  19.305   848.23\n",
            "\n",
            "[101 rows x 8 columns]                 count        mean         std  ...    50%     75%      max\n",
            "city                                           ...                        \n",
            " Alwar         5860.0   65.177937   25.574888  ...  64.79   83.20  221.180\n",
            "Ahmedabad      5609.0  103.010317   53.019606  ...  89.90  117.31  626.100\n",
            "Aizawl         2574.0   34.543699   22.189746  ...  33.00   46.00  191.000\n",
            "Ajmer          6091.0   82.258812   50.536433  ...  73.50   98.65  830.600\n",
            "Amaravati      2463.0   42.246482   15.987879  ...  41.00   54.00  112.086\n",
            "...               ...         ...         ...  ...    ...     ...      ...\n",
            "Vatva          2843.0  133.692172  128.306096  ...  95.74  148.14  999.990\n",
            "Vijayapura     1396.0   60.624424   29.624510  ...  54.27   70.23  338.150\n",
            "Visakhapatnam  5259.0   69.764594   52.452595  ...  55.00   78.00  450.000\n",
            "Yadgir         1910.0   62.429319   22.537088  ...  60.00   73.00  220.000\n",
            "Yamunanagar    3219.0   99.950443   46.444657  ...  94.10  121.80  475.100\n",
            "\n",
            "[101 rows x 8 columns]                 count       mean        std  ...     50%     75%     max\n",
            "city                                         ...                        \n",
            " Alwar         5860.0  30.028258  14.782652  ...  25.680  34.305  166.07\n",
            "Ahmedabad      5609.0  35.184689  32.997067  ...  22.820  42.050  362.44\n",
            "Aizawl         2574.0   2.681667   7.321733  ...   0.180   0.500   25.39\n",
            "Ajmer          6091.0  14.915375  12.755352  ...  11.400  17.325   84.44\n",
            "Amaravati      2463.0   7.131705   4.157875  ...   5.700   8.500   37.00\n",
            "...               ...        ...        ...  ...     ...     ...     ...\n",
            "Vatva          2843.0  35.295645  28.409430  ...  27.610  48.495  278.80\n",
            "Vijayapura     1396.0  10.627350   4.100221  ...   9.315  11.775   33.66\n",
            "Visakhapatnam  5259.0  28.823871  18.283107  ...  26.200  35.900  138.30\n",
            "Yadgir         1910.0  13.049476  12.887256  ...   9.100  14.800  104.60\n",
            "Yamunanagar    3219.0  30.981541  15.394211  ...  28.160  36.445  146.15\n",
            "\n",
            "[101 rows x 8 columns]\n"
          ],
          "name": "stdout"
        }
      ]
    },
    {
      "cell_type": "markdown",
      "metadata": {
        "id": "zVbn_45YPcC2",
        "colab_type": "text"
      },
      "source": [
        "ploting trends"
      ]
    },
    {
      "cell_type": "code",
      "metadata": {
        "id": "i_s7QIYBfF0X",
        "colab_type": "code",
        "outputId": "d44b2e95-de7e-4d01-9c81-489101246f06",
        "colab": {
          "base_uri": "https://localhost:8080/",
          "height": 195
        }
      },
      "source": [
        "import fbprophet\n",
        "# Prophet requires columns ds (Date) and y (value)\n",
        "gm = data.rename(columns={' Timestamp': 'ds', 'pm25': 'y'})\n",
        "gm.head()\n",
        "\n",
        "\n",
        "\n"
      ],
      "execution_count": 9,
      "outputs": [
        {
          "output_type": "execute_result",
          "data": {
            "text/html": [
              "<div>\n",
              "<style scoped>\n",
              "    .dataframe tbody tr th:only-of-type {\n",
              "        vertical-align: middle;\n",
              "    }\n",
              "\n",
              "    .dataframe tbody tr th {\n",
              "        vertical-align: top;\n",
              "    }\n",
              "\n",
              "    .dataframe thead th {\n",
              "        text-align: right;\n",
              "    }\n",
              "</style>\n",
              "<table border=\"1\" class=\"dataframe\">\n",
              "  <thead>\n",
              "    <tr style=\"text-align: right;\">\n",
              "      <th></th>\n",
              "      <th>city</th>\n",
              "      <th>ds</th>\n",
              "      <th>y</th>\n",
              "      <th>o3</th>\n",
              "      <th>co</th>\n",
              "      <th>so2</th>\n",
              "      <th>pm10</th>\n",
              "      <th>no2</th>\n",
              "      <th>latitude</th>\n",
              "      <th>longitude</th>\n",
              "    </tr>\n",
              "  </thead>\n",
              "  <tbody>\n",
              "    <tr>\n",
              "      <th>0</th>\n",
              "      <td>Aurangabad</td>\n",
              "      <td>2020-05-21 12:30:00</td>\n",
              "      <td>13.45</td>\n",
              "      <td>51.88</td>\n",
              "      <td>340.0</td>\n",
              "      <td>4.96</td>\n",
              "      <td>52.10</td>\n",
              "      <td>13.05</td>\n",
              "      <td>19.838944</td>\n",
              "      <td>75.244448</td>\n",
              "    </tr>\n",
              "    <tr>\n",
              "      <th>1</th>\n",
              "      <td>Aurangabad</td>\n",
              "      <td>2020-05-21 12:15:00</td>\n",
              "      <td>14.04</td>\n",
              "      <td>54.23</td>\n",
              "      <td>320.0</td>\n",
              "      <td>6.12</td>\n",
              "      <td>49.92</td>\n",
              "      <td>2.72</td>\n",
              "      <td>19.838944</td>\n",
              "      <td>75.244448</td>\n",
              "    </tr>\n",
              "    <tr>\n",
              "      <th>2</th>\n",
              "      <td>Aurangabad</td>\n",
              "      <td>2020-05-21 12:00:00</td>\n",
              "      <td>14.04</td>\n",
              "      <td>50.92</td>\n",
              "      <td>420.0</td>\n",
              "      <td>5.49</td>\n",
              "      <td>49.92</td>\n",
              "      <td>10.97</td>\n",
              "      <td>19.838944</td>\n",
              "      <td>75.244448</td>\n",
              "    </tr>\n",
              "    <tr>\n",
              "      <th>3</th>\n",
              "      <td>Aurangabad</td>\n",
              "      <td>2020-05-21 11:00:00</td>\n",
              "      <td>13.11</td>\n",
              "      <td>48.12</td>\n",
              "      <td>670.0</td>\n",
              "      <td>4.63</td>\n",
              "      <td>49.96</td>\n",
              "      <td>16.98</td>\n",
              "      <td>19.838944</td>\n",
              "      <td>75.244448</td>\n",
              "    </tr>\n",
              "    <tr>\n",
              "      <th>4</th>\n",
              "      <td>Aurangabad</td>\n",
              "      <td>2020-05-21 10:30:00</td>\n",
              "      <td>13.50</td>\n",
              "      <td>50.21</td>\n",
              "      <td>590.0</td>\n",
              "      <td>3.72</td>\n",
              "      <td>49.63</td>\n",
              "      <td>19.23</td>\n",
              "      <td>19.838944</td>\n",
              "      <td>75.244448</td>\n",
              "    </tr>\n",
              "  </tbody>\n",
              "</table>\n",
              "</div>"
            ],
            "text/plain": [
              "         city                  ds      y  ...    no2   latitude  longitude\n",
              "0  Aurangabad 2020-05-21 12:30:00  13.45  ...  13.05  19.838944  75.244448\n",
              "1  Aurangabad 2020-05-21 12:15:00  14.04  ...   2.72  19.838944  75.244448\n",
              "2  Aurangabad 2020-05-21 12:00:00  14.04  ...  10.97  19.838944  75.244448\n",
              "3  Aurangabad 2020-05-21 11:00:00  13.11  ...  16.98  19.838944  75.244448\n",
              "4  Aurangabad 2020-05-21 10:30:00  13.50  ...  19.23  19.838944  75.244448\n",
              "\n",
              "[5 rows x 10 columns]"
            ]
          },
          "metadata": {
            "tags": []
          },
          "execution_count": 9
        }
      ]
    },
    {
      "cell_type": "code",
      "metadata": {
        "id": "X3RzeLUmg7vC",
        "colab_type": "code",
        "outputId": "6e8de0cb-f7f7-426f-eada-4e295383a7a7",
        "colab": {
          "base_uri": "https://localhost:8080/",
          "height": 50
        }
      },
      "source": [
        "# Make the prophet model and fit on the data\n",
        "gm_prophet = fbprophet.Prophet(changepoint_prior_scale=0.1)\n",
        "gm_prophet.fit(gm)"
      ],
      "execution_count": 10,
      "outputs": [
        {
          "output_type": "stream",
          "text": [
            "INFO:fbprophet:Disabling yearly seasonality. Run prophet with yearly_seasonality=True to override this.\n"
          ],
          "name": "stderr"
        },
        {
          "output_type": "execute_result",
          "data": {
            "text/plain": [
              "<fbprophet.forecaster.Prophet at 0x7f2b11036cf8>"
            ]
          },
          "metadata": {
            "tags": []
          },
          "execution_count": 10
        }
      ]
    },
    {
      "cell_type": "code",
      "metadata": {
        "colab_type": "code",
        "id": "TIRljd7FgoA3",
        "colab": {}
      },
      "source": [
        "# Make a future dataframe for 3 years\n",
        "gm_forecast = gm_prophet.make_future_dataframe(periods=365*3, freq='M')\n",
        "# Make predictions\n",
        "gm_forecast = gm_prophet.predict(gm_forecast)"
      ],
      "execution_count": 0,
      "outputs": []
    },
    {
      "cell_type": "code",
      "metadata": {
        "id": "eC1BoEEDgGN5",
        "colab_type": "code",
        "colab": {}
      },
      "source": [
        "gm_prophet.plot(gm_forecast, xlabel = 'Date', ylabel = 'pm25')\n",
        "plt.title('25');"
      ],
      "execution_count": 0,
      "outputs": []
    }
  ]
}